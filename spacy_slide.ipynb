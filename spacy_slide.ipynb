{
 "cells": [
  {
   "cell_type": "markdown",
   "metadata": {
    "slideshow": {
     "slide_type": "slide"
    }
   },
   "source": [
    "# Overview and Demo of spaCy\n",
    "### by Palermo Penano"
   ]
  },
  {
   "cell_type": "markdown",
   "metadata": {
    "slideshow": {
     "slide_type": "slide"
    }
   },
   "source": [
    "# Outline\n",
    "* What is spaCy?\n",
    "* What can spaCy do?\n",
    "* Performance comparison\n",
    "* Getting Started\n",
    "* Demo\n",
    "* Bugs I Encountered\n",
    "* Resources"
   ]
  },
  {
   "cell_type": "markdown",
   "metadata": {
    "slideshow": {
     "slide_type": "slide"
    }
   },
   "source": [
    "# What is spaCy?\n",
    "* _\"Industrial-strength natural language processing library\"_ developed by Explosion AI\n",
    "* Free and open-source ([GitHub page](https://github.com/explosion/spaCy))\n",
    "* Designed for production use\n",
    "* Native to Python (written in Cython)\n",
    "* Very good for information extraction and text preprocessing\n",
    "* See [spaCy 101](https://spacy.io/usage/spacy-101) for more detail\n",
    "\n",
    "## Other libraries in similar space\n",
    "* NLTK, CoreNLP, SyntexNet, Gensim,..."
   ]
  },
  {
   "cell_type": "markdown",
   "metadata": {
    "slideshow": {
     "slide_type": "slide"
    }
   },
   "source": [
    "# What can spaCy do?\n",
    "* Tokenization\n",
    "* Sentence segmentation\n",
    "* Dependency parsing\n",
    "* Part-of-speech tagging\n",
    "* Entity recognition\n",
    "* Multi-language support\n",
    "* \\+ more"
   ]
  },
  {
   "cell_type": "markdown",
   "metadata": {
    "slideshow": {
     "slide_type": "slide"
    }
   },
   "source": [
    "<img src=./imgs/feature_comparison.png alt=\"drawing\" width=\"500px\"/>\n",
    "[Source](https://spacy.io/usage/facts-figures#comparison)"
   ]
  },
  {
   "cell_type": "markdown",
   "metadata": {
    "slideshow": {
     "slide_type": "slide"
    }
   },
   "source": [
    "# Performance Comparison\n",
    "<img src=./imgs/compare_performance.png alt=\"drawing\" width=\"500px\"/>\n",
    "[Source](https://spacy.io/usage/facts-figures#speed-comparison)"
   ]
  },
  {
   "cell_type": "markdown",
   "metadata": {
    "slideshow": {
     "slide_type": "slide"
    }
   },
   "source": [
    "# Demo"
   ]
  },
  {
   "cell_type": "markdown",
   "metadata": {
    "slideshow": {
     "slide_type": "slide"
    }
   },
   "source": [
    "# Resources\n",
    "* [spaCy homepage](https://spacy.io/usage/facts-figures)\n",
    "* [spaCy 101](https://spacy.io/usage/spacy-101)\n",
    "* [It Depends: Dependency Parser Comparison Using A Web-based Evaluation Tool by Choi, Tetreault, and Stent](https://aclweb.org/anthology/P/P15/P15-1038.pdf)"
   ]
  }
 ],
 "metadata": {
  "celltoolbar": "Slideshow",
  "kernelspec": {
   "display_name": "Python [default]",
   "language": "python",
   "name": "python3"
  },
  "language_info": {
   "codemirror_mode": {
    "name": "ipython",
    "version": 3
   },
   "file_extension": ".py",
   "mimetype": "text/x-python",
   "name": "python",
   "nbconvert_exporter": "python",
   "pygments_lexer": "ipython3",
   "version": "3.6.5"
  }
 },
 "nbformat": 4,
 "nbformat_minor": 2
}
