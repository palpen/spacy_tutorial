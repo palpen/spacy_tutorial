{
 "cells": [
  {
   "cell_type": "markdown",
   "metadata": {
    "slideshow": {
     "slide_type": "slide"
    }
   },
   "source": [
    "# Overview and Demo of spaCy\n",
    "### by Palermo Penano"
   ]
  },
  {
   "cell_type": "markdown",
   "metadata": {
    "slideshow": {
     "slide_type": "slide"
    }
   },
   "source": [
    "# Outline\n",
    "* What is Spacy?\n",
    "* What can Spacy it do?\n",
    "* Alternatives\n",
    "    * NLTK, CoreNLP, TextBlob, Gensim\n",
    "* Performance comparison\n",
    "* Getting Started\n",
    "* Demo\n",
    "* Bugs I Encountered\n",
    "* Resources"
   ]
  },
  {
   "cell_type": "markdown",
   "metadata": {
    "slideshow": {
     "slide_type": "slide"
    }
   },
   "source": [
    "# What is spaCy?\n",
    "* \"Industrial-strength natural language processing library\" developed by Explosion AI\n",
    "* Free and open-source ([GitHub page](https://github.com/explosion/spaCy))\n",
    "* Designed for production use\n",
    "* Native to Python (written in Cython) (SOURCE---WHAT IS CYTHON???)\n",
    "* Very good for information extraction and text preprocessing\n",
    "* See [spaCy 101](https://spacy.io/usage/spacy-101) for more detail\n",
    "\n",
    "## Other libraries in similar space\n",
    "* NLTK, CoreNLP, SyntexNet, Gensim,..."
   ]
  },
  {
   "cell_type": "markdown",
   "metadata": {
    "slideshow": {
     "slide_type": "slide"
    }
   },
   "source": [
    "# What can spaCy do?\n",
    "* Tokenization\n",
    "* Part-of-speech tagging (WHAT IS THIS???)\n",
    "* Sentence segmentation (HOW IS THIS DONE???)\n",
    "* Dependency parsing (WHAT IS THIS???)\n",
    "* Entity recognition\n",
    "* \\+ more"
   ]
  },
  {
   "cell_type": "markdown",
   "metadata": {
    "slideshow": {
     "slide_type": "slide"
    }
   },
   "source": [
    "<img src=./imgs/feature_comparison.png alt=\"drawing\" width=\"500px\"/>"
   ]
  },
  {
   "cell_type": "markdown",
   "metadata": {
    "slideshow": {
     "slide_type": "slide"
    }
   },
   "source": [
    "# Performance Comparison"
   ]
  },
  {
   "cell_type": "markdown",
   "metadata": {
    "slideshow": {
     "slide_type": "slide"
    }
   },
   "source": [
    "# Getting Started\n",
    "\n",
    "### How to install\n",
    "Spacy can be installed using either `pip` or `conda` \n",
    "* `pip install -U spacy`\n",
    "* `conda install -c conda-forge spacy`\n",
    "\n"
   ]
  },
  {
   "cell_type": "markdown",
   "metadata": {
    "slideshow": {
     "slide_type": "slide"
    }
   },
   "source": [
    "# Demo"
   ]
  },
  {
   "cell_type": "markdown",
   "metadata": {},
   "source": [
    "# Lessons\n",
    "* spaCy --- very easy to use compared to other libraries but still gives simililar or better performance\n",
    "    * COMPARE WITH NLTK, CoreNLP, "
   ]
  },
  {
   "cell_type": "markdown",
   "metadata": {
    "slideshow": {
     "slide_type": "slide"
    }
   },
   "source": [
    "# Resources\n",
    "* [spaCy homepage](https://spacy.io/usage/facts-figures)\n",
    "* [spaCy 101](https://spacy.io/usage/spacy-101)\n",
    "* [It Depends: Dependency Parser Comparison Using A Web-based Evaluation Tool by Choi, Tetreault, and Stent](https://aclweb.org/anthology/P/P15/P15-1038.pdf)"
   ]
  },
  {
   "cell_type": "markdown",
   "metadata": {
    "slideshow": {
     "slide_type": "notes"
    }
   },
   "source": [
    "# Notes (do not include in slide)\n",
    "\n",
    "* How to create slides from notebook\n",
    "    * https://medium.com/@mjspeck/presenting-code-using-jupyter-notebook-slides-a8a3c3b59d67\n",
    "* Serve notebook as a slide\n",
    "    * `jupyter nbconvert Untitled.ipynb --to slides --post serve`"
   ]
  }
 ],
 "metadata": {
  "celltoolbar": "Slideshow",
  "kernelspec": {
   "display_name": "Python 3",
   "language": "python",
   "name": "python3"
  },
  "language_info": {
   "codemirror_mode": {
    "name": "ipython",
    "version": 3
   },
   "file_extension": ".py",
   "mimetype": "text/x-python",
   "name": "python",
   "nbconvert_exporter": "python",
   "pygments_lexer": "ipython3",
   "version": "3.6.4"
  }
 },
 "nbformat": 4,
 "nbformat_minor": 2
}
